{
 "cells": [
  {
   "cell_type": "markdown",
   "id": "1b8db87b",
   "metadata": {},
   "source": [
    "# Problem 1: EU Cities Temperatures"
   ]
  },
  {
   "cell_type": "code",
   "execution_count": 3,
   "id": "add51734",
   "metadata": {},
   "outputs": [],
   "source": [
    "import math\n",
    "import pandas as pd\n",
    "from pandas import DataFrame\n",
    "from pandas import Series\n",
    "import numpy as np\n",
    "from numpy import nan as NA\n",
    "import csv\n",
    "from matplotlib import pyplot as plt\n",
    "f = open(\"data/EuCitiesTemperatures.csv\")\n",
    "data = pd.read_csv(f)"
   ]
  },
  {
   "cell_type": "markdown",
   "id": "da315979",
   "metadata": {},
   "source": [
    "### Preprocessing"
   ]
  },
  {
   "cell_type": "markdown",
   "id": "61c3d49f",
   "metadata": {},
   "source": [
    "#### 1. Fill in the missing latitude and longitude values by calcu- lating the average for that country. Round the average to 2 decimal places."
   ]
  },
  {
   "cell_type": "code",
   "execution_count": 4,
   "id": "11ba3bcd-6d84-414e-beaa-ed8c018a89ae",
   "metadata": {},
   "outputs": [],
   "source": [
    "def missing_values(data):\n",
    "    lst=Series(list(data['latitude']), index=data['country'].values)\n",
    "    newlatlist=[]\n",
    "    for i in data.index:\n",
    "        if math.isnan(data['latitude'][i]):\n",
    "            newlatlist.append(round(np.nanmean(np.array(lst[data['country'][i]])),2))\n",
    "        else:\n",
    "            newlatlist.append(data['latitude'][i])\n",
    "    data['latitude']=newlatlist\n",
    "    lst1=Series(list(data['longitude']), index=data['country'].values)\n",
    "    newlonglist=[]\n",
    "    for i in data.index:\n",
    "        if math.isnan(data['longitude'][i]):\n",
    "            newlonglist.append(round(np.nanmean(np.array(lst1[data['country'][i]])),2))\n",
    "        else:\n",
    "            newlonglist.append(data['longitude'][i])\n",
    "    data['longitude']=newlonglist\n",
    "    data.to_csv(\"EuCitiesTemperatures.csv\", columns=data.columns)"
   ]
  },
  {
   "cell_type": "code",
   "execution_count": 9,
   "id": "c4b0e8ea",
   "metadata": {},
   "outputs": [],
   "source": [
    "missing_values(data)"
   ]
  },
  {
   "cell_type": "code",
   "execution_count": 10,
   "id": "004ff4a8",
   "metadata": {},
   "outputs": [
    {
     "data": {
      "text/html": [
       "<div>\n",
       "<style scoped>\n",
       "    .dataframe tbody tr th:only-of-type {\n",
       "        vertical-align: middle;\n",
       "    }\n",
       "\n",
       "    .dataframe tbody tr th {\n",
       "        vertical-align: top;\n",
       "    }\n",
       "\n",
       "    .dataframe thead th {\n",
       "        text-align: right;\n",
       "    }\n",
       "</style>\n",
       "<table border=\"1\" class=\"dataframe\">\n",
       "  <thead>\n",
       "    <tr style=\"text-align: right;\">\n",
       "      <th></th>\n",
       "      <th>city</th>\n",
       "      <th>country</th>\n",
       "      <th>population</th>\n",
       "      <th>EU</th>\n",
       "      <th>coastline</th>\n",
       "      <th>latitude</th>\n",
       "      <th>longitude</th>\n",
       "      <th>temperature</th>\n",
       "    </tr>\n",
       "  </thead>\n",
       "  <tbody>\n",
       "    <tr>\n",
       "      <th>0</th>\n",
       "      <td>Elbasan</td>\n",
       "      <td>Albania</td>\n",
       "      <td>2.90</td>\n",
       "      <td>no</td>\n",
       "      <td>yes</td>\n",
       "      <td>41.12</td>\n",
       "      <td>20.08</td>\n",
       "      <td>15.18</td>\n",
       "    </tr>\n",
       "    <tr>\n",
       "      <th>1</th>\n",
       "      <td>Andorra</td>\n",
       "      <td>Andorra</td>\n",
       "      <td>0.07</td>\n",
       "      <td>no</td>\n",
       "      <td>no</td>\n",
       "      <td>42.50</td>\n",
       "      <td>1.52</td>\n",
       "      <td>7.48</td>\n",
       "    </tr>\n",
       "    <tr>\n",
       "      <th>2</th>\n",
       "      <td>Innsbruck</td>\n",
       "      <td>Austria</td>\n",
       "      <td>8.57</td>\n",
       "      <td>yes</td>\n",
       "      <td>no</td>\n",
       "      <td>47.85</td>\n",
       "      <td>11.41</td>\n",
       "      <td>4.54</td>\n",
       "    </tr>\n",
       "    <tr>\n",
       "      <th>3</th>\n",
       "      <td>Graz</td>\n",
       "      <td>Austria</td>\n",
       "      <td>8.57</td>\n",
       "      <td>yes</td>\n",
       "      <td>no</td>\n",
       "      <td>47.08</td>\n",
       "      <td>14.02</td>\n",
       "      <td>6.91</td>\n",
       "    </tr>\n",
       "    <tr>\n",
       "      <th>4</th>\n",
       "      <td>Linz</td>\n",
       "      <td>Austria</td>\n",
       "      <td>8.57</td>\n",
       "      <td>yes</td>\n",
       "      <td>no</td>\n",
       "      <td>48.32</td>\n",
       "      <td>14.29</td>\n",
       "      <td>6.79</td>\n",
       "    </tr>\n",
       "    <tr>\n",
       "      <th>...</th>\n",
       "      <td>...</td>\n",
       "      <td>...</td>\n",
       "      <td>...</td>\n",
       "      <td>...</td>\n",
       "      <td>...</td>\n",
       "      <td>...</td>\n",
       "      <td>...</td>\n",
       "      <td>...</td>\n",
       "    </tr>\n",
       "    <tr>\n",
       "      <th>208</th>\n",
       "      <td>Edinburgh</td>\n",
       "      <td>United Kingdom</td>\n",
       "      <td>65.11</td>\n",
       "      <td>yes</td>\n",
       "      <td>yes</td>\n",
       "      <td>55.95</td>\n",
       "      <td>-2.94</td>\n",
       "      <td>10.31</td>\n",
       "    </tr>\n",
       "    <tr>\n",
       "      <th>209</th>\n",
       "      <td>Exeter</td>\n",
       "      <td>United Kingdom</td>\n",
       "      <td>65.11</td>\n",
       "      <td>yes</td>\n",
       "      <td>yes</td>\n",
       "      <td>50.70</td>\n",
       "      <td>-3.53</td>\n",
       "      <td>10.14</td>\n",
       "    </tr>\n",
       "    <tr>\n",
       "      <th>210</th>\n",
       "      <td>Inverness</td>\n",
       "      <td>United Kingdom</td>\n",
       "      <td>65.11</td>\n",
       "      <td>yes</td>\n",
       "      <td>yes</td>\n",
       "      <td>53.55</td>\n",
       "      <td>-4.23</td>\n",
       "      <td>8.00</td>\n",
       "    </tr>\n",
       "    <tr>\n",
       "      <th>211</th>\n",
       "      <td>Glasgow</td>\n",
       "      <td>United Kingdom</td>\n",
       "      <td>65.11</td>\n",
       "      <td>yes</td>\n",
       "      <td>yes</td>\n",
       "      <td>55.87</td>\n",
       "      <td>-4.25</td>\n",
       "      <td>8.60</td>\n",
       "    </tr>\n",
       "    <tr>\n",
       "      <th>212</th>\n",
       "      <td>Swansea</td>\n",
       "      <td>United Kingdom</td>\n",
       "      <td>65.11</td>\n",
       "      <td>yes</td>\n",
       "      <td>yes</td>\n",
       "      <td>51.63</td>\n",
       "      <td>-3.95</td>\n",
       "      <td>9.73</td>\n",
       "    </tr>\n",
       "  </tbody>\n",
       "</table>\n",
       "<p>213 rows × 8 columns</p>\n",
       "</div>"
      ],
      "text/plain": [
       "          city         country  population   EU coastline  latitude  \\\n",
       "0      Elbasan         Albania        2.90   no       yes     41.12   \n",
       "1      Andorra         Andorra        0.07   no        no     42.50   \n",
       "2    Innsbruck         Austria        8.57  yes        no     47.85   \n",
       "3         Graz         Austria        8.57  yes        no     47.08   \n",
       "4         Linz         Austria        8.57  yes        no     48.32   \n",
       "..         ...             ...         ...  ...       ...       ...   \n",
       "208  Edinburgh  United Kingdom       65.11  yes       yes     55.95   \n",
       "209     Exeter  United Kingdom       65.11  yes       yes     50.70   \n",
       "210  Inverness  United Kingdom       65.11  yes       yes     53.55   \n",
       "211    Glasgow  United Kingdom       65.11  yes       yes     55.87   \n",
       "212    Swansea  United Kingdom       65.11  yes       yes     51.63   \n",
       "\n",
       "     longitude  temperature  \n",
       "0        20.08        15.18  \n",
       "1         1.52         7.48  \n",
       "2        11.41         4.54  \n",
       "3        14.02         6.91  \n",
       "4        14.29         6.79  \n",
       "..         ...          ...  \n",
       "208      -2.94        10.31  \n",
       "209      -3.53        10.14  \n",
       "210      -4.23         8.00  \n",
       "211      -4.25         8.60  \n",
       "212      -3.95         9.73  \n",
       "\n",
       "[213 rows x 8 columns]"
      ]
     },
     "execution_count": 10,
     "metadata": {},
     "output_type": "execute_result"
    }
   ],
   "source": [
    "data"
   ]
  },
  {
   "cell_type": "markdown",
   "id": "61b4099d",
   "metadata": {},
   "source": [
    "#### 2. Find the subset of cities that lie between latitudes 40 to 60 (both inclusive) and longitudes 15 to 30 (both inclusive). Find out which countries have the maximal number of cities in this geographical band. (More than one country could have the maximal number of values.)"
   ]
  },
  {
   "cell_type": "code",
   "execution_count": 5,
   "id": "0d244c53-be97-493f-97dd-cef6f62ad492",
   "metadata": {},
   "outputs": [],
   "source": [
    "def subset(data):\n",
    "    cities=[]\n",
    "    countries=list(data['country'].values)\n",
    "    countries1=list()\n",
    "    for i in data.index:\n",
    "        if data['latitude'][i]>=40 and data['latitude'][i]<=60 and data['longitude'][i]>=15 and data['longitude'][i]<=30:\n",
    "            cities.append(data['city'][i])\n",
    "        else:\n",
    "            countries1.append(countries[i])\n",
    "            countries[i]=0\n",
    "    lst = [i for i in countries if i != 0]\n",
    "    maximalc=list()\n",
    "    for i in lst:\n",
    "        if i not in countries1:\n",
    "            if i not in maximalc:\n",
    "                maximalc.append(i)\n",
    "    return cities, maximalc #list of cities that lie between latitudes 40 to 60 and longitudes 15 to 30, and a list countries have the maximal number of cities in this geographical band\n"
   ]
  },
  {
   "cell_type": "code",
   "execution_count": 11,
   "id": "795715a6",
   "metadata": {},
   "outputs": [
    {
     "data": {
      "text/plain": [
       "(['Elbasan',\n",
       "  'Vienna',\n",
       "  'Minsk',\n",
       "  'Orsha',\n",
       "  'Pinsk',\n",
       "  'Brest',\n",
       "  'Hrodna',\n",
       "  'Mazyr',\n",
       "  'Plovdiv',\n",
       "  'Burgas',\n",
       "  'Pleven',\n",
       "  'Ruse',\n",
       "  'Stara Zagora',\n",
       "  'Split',\n",
       "  'Brno',\n",
       "  'Ostrava',\n",
       "  'Tartu',\n",
       "  'Tallinn',\n",
       "  'Budapest',\n",
       "  'Debrecen',\n",
       "  'Gyor',\n",
       "  'Szeged',\n",
       "  'Bari',\n",
       "  'Foggia',\n",
       "  'Daugavpils',\n",
       "  'Riga',\n",
       "  'Klaipeda',\n",
       "  'Kaunas',\n",
       "  'Vilnius',\n",
       "  'Skopje',\n",
       "  'Balti',\n",
       "  'Chisinau',\n",
       "  'Podgorica',\n",
       "  'Bialystok',\n",
       "  'Bydgoszcz',\n",
       "  'Bytom',\n",
       "  'Elblag',\n",
       "  'Kielce',\n",
       "  'Koszalin',\n",
       "  'Poznan',\n",
       "  'Wroclaw',\n",
       "  'Warsaw',\n",
       "  'Botosani',\n",
       "  'Braila',\n",
       "  'Bucharest',\n",
       "  'Craiova',\n",
       "  'Sibiu',\n",
       "  'Arad',\n",
       "  'Bacau',\n",
       "  'Baia Mare',\n",
       "  'Constanta',\n",
       "  'Belgrade',\n",
       "  'Nis',\n",
       "  'Novi Sad',\n",
       "  'Bratislava',\n",
       "  'Kosice',\n",
       "  'MalmÃƒÂ¶',\n",
       "  'Uppsala',\n",
       "  'Bursa',\n",
       "  'Edirne',\n",
       "  'Tekirdag',\n",
       "  'Chernivtsi',\n",
       "  'Rivne'],\n",
       " ['Albania',\n",
       "  'Belarus',\n",
       "  'Bulgaria',\n",
       "  'Estonia',\n",
       "  'Hungary',\n",
       "  'Latvia',\n",
       "  'Lithuania',\n",
       "  'Macedonia',\n",
       "  'Moldova',\n",
       "  'Montenegro',\n",
       "  'Poland',\n",
       "  'Romania',\n",
       "  'Serbia',\n",
       "  'Slovakia'])"
      ]
     },
     "execution_count": 11,
     "metadata": {},
     "output_type": "execute_result"
    }
   ],
   "source": [
    "subset(data)"
   ]
  },
  {
   "cell_type": "markdown",
   "id": "3381e227",
   "metadata": {},
   "source": [
    "#### 3. Fill in the missing temperature values by the average tem- perature value of the similar region type. A region type would be a combinaton of whether it is in EU and whether it has a coastline."
   ]
  },
  {
   "cell_type": "code",
   "execution_count": 12,
   "id": "02fade93-d004-4ef5-8a06-c65b711f8d0a",
   "metadata": {},
   "outputs": [],
   "source": [
    "def average_temp(data):\n",
    "    eu=[] #eu only\n",
    "    euc=[] #eu and coast\n",
    "    c=[] #coast only\n",
    "    n=[] #neither\n",
    "    for i in data.index:\n",
    "        if data['coastline'][i]=='yes' and data['EU'][i]=='no':\n",
    "            c.append(data['temperature'][i])\n",
    "        elif data['EU'][i]=='yes' and data['coastline'][i]=='no':\n",
    "            eu.append(data['temperature'][i])\n",
    "        elif data['coastline'][i]=='yes' and data['EU'][i]=='yes':\n",
    "            euc.append(data['temperature'][i])\n",
    "        elif data['coastline'][i]=='no' and data['EU'][i]=='no':\n",
    "            n.append(data['temperature'][i])\n",
    "    for i in data.index:\n",
    "        if math.isnan(data['temperature'][i]):\n",
    "            if data['coastline'][i]=='yes' and data['EU'][i]=='no':\n",
    "                data['temperature'][i]=round(np.nanmean(np.array(c)),2)\n",
    "            elif data['EU'][i]=='yes' and data['coastline'][i]=='no':\n",
    "                data['temperature'][i]=round(np.nanmean(np.array(eu)),2)\n",
    "            elif data['coastline'][i]=='yes' and data['EU'][i]=='yes':\n",
    "                data['temperature'][i]=round(np.nanmean(np.array(euc)),2)\n",
    "            elif data['coastline'][i]=='no' and data['EU'][i]=='no':\n",
    "                data['temperature'][i]=round(np.nanmean(np.array(n)),2)\n",
    "    data.to_csv(\"EuCitiesTemperatures.csv\", columns=data.columns)\n",
    "average_temp(data)"
   ]
  },
  {
   "cell_type": "code",
   "execution_count": 13,
   "id": "0ad84462",
   "metadata": {},
   "outputs": [],
   "source": [
    "average_temp(data)"
   ]
  },
  {
   "cell_type": "code",
   "execution_count": 14,
   "id": "c712a7cd",
   "metadata": {},
   "outputs": [
    {
     "data": {
      "text/html": [
       "<div>\n",
       "<style scoped>\n",
       "    .dataframe tbody tr th:only-of-type {\n",
       "        vertical-align: middle;\n",
       "    }\n",
       "\n",
       "    .dataframe tbody tr th {\n",
       "        vertical-align: top;\n",
       "    }\n",
       "\n",
       "    .dataframe thead th {\n",
       "        text-align: right;\n",
       "    }\n",
       "</style>\n",
       "<table border=\"1\" class=\"dataframe\">\n",
       "  <thead>\n",
       "    <tr style=\"text-align: right;\">\n",
       "      <th></th>\n",
       "      <th>city</th>\n",
       "      <th>country</th>\n",
       "      <th>population</th>\n",
       "      <th>EU</th>\n",
       "      <th>coastline</th>\n",
       "      <th>latitude</th>\n",
       "      <th>longitude</th>\n",
       "      <th>temperature</th>\n",
       "    </tr>\n",
       "  </thead>\n",
       "  <tbody>\n",
       "    <tr>\n",
       "      <th>0</th>\n",
       "      <td>Elbasan</td>\n",
       "      <td>Albania</td>\n",
       "      <td>2.90</td>\n",
       "      <td>no</td>\n",
       "      <td>yes</td>\n",
       "      <td>41.12</td>\n",
       "      <td>20.08</td>\n",
       "      <td>15.18</td>\n",
       "    </tr>\n",
       "    <tr>\n",
       "      <th>1</th>\n",
       "      <td>Andorra</td>\n",
       "      <td>Andorra</td>\n",
       "      <td>0.07</td>\n",
       "      <td>no</td>\n",
       "      <td>no</td>\n",
       "      <td>42.50</td>\n",
       "      <td>1.52</td>\n",
       "      <td>7.48</td>\n",
       "    </tr>\n",
       "    <tr>\n",
       "      <th>2</th>\n",
       "      <td>Innsbruck</td>\n",
       "      <td>Austria</td>\n",
       "      <td>8.57</td>\n",
       "      <td>yes</td>\n",
       "      <td>no</td>\n",
       "      <td>47.85</td>\n",
       "      <td>11.41</td>\n",
       "      <td>4.54</td>\n",
       "    </tr>\n",
       "    <tr>\n",
       "      <th>3</th>\n",
       "      <td>Graz</td>\n",
       "      <td>Austria</td>\n",
       "      <td>8.57</td>\n",
       "      <td>yes</td>\n",
       "      <td>no</td>\n",
       "      <td>47.08</td>\n",
       "      <td>14.02</td>\n",
       "      <td>6.91</td>\n",
       "    </tr>\n",
       "    <tr>\n",
       "      <th>4</th>\n",
       "      <td>Linz</td>\n",
       "      <td>Austria</td>\n",
       "      <td>8.57</td>\n",
       "      <td>yes</td>\n",
       "      <td>no</td>\n",
       "      <td>48.32</td>\n",
       "      <td>14.29</td>\n",
       "      <td>6.79</td>\n",
       "    </tr>\n",
       "    <tr>\n",
       "      <th>...</th>\n",
       "      <td>...</td>\n",
       "      <td>...</td>\n",
       "      <td>...</td>\n",
       "      <td>...</td>\n",
       "      <td>...</td>\n",
       "      <td>...</td>\n",
       "      <td>...</td>\n",
       "      <td>...</td>\n",
       "    </tr>\n",
       "    <tr>\n",
       "      <th>208</th>\n",
       "      <td>Edinburgh</td>\n",
       "      <td>United Kingdom</td>\n",
       "      <td>65.11</td>\n",
       "      <td>yes</td>\n",
       "      <td>yes</td>\n",
       "      <td>55.95</td>\n",
       "      <td>-2.94</td>\n",
       "      <td>10.31</td>\n",
       "    </tr>\n",
       "    <tr>\n",
       "      <th>209</th>\n",
       "      <td>Exeter</td>\n",
       "      <td>United Kingdom</td>\n",
       "      <td>65.11</td>\n",
       "      <td>yes</td>\n",
       "      <td>yes</td>\n",
       "      <td>50.70</td>\n",
       "      <td>-3.53</td>\n",
       "      <td>10.14</td>\n",
       "    </tr>\n",
       "    <tr>\n",
       "      <th>210</th>\n",
       "      <td>Inverness</td>\n",
       "      <td>United Kingdom</td>\n",
       "      <td>65.11</td>\n",
       "      <td>yes</td>\n",
       "      <td>yes</td>\n",
       "      <td>53.55</td>\n",
       "      <td>-4.23</td>\n",
       "      <td>8.00</td>\n",
       "    </tr>\n",
       "    <tr>\n",
       "      <th>211</th>\n",
       "      <td>Glasgow</td>\n",
       "      <td>United Kingdom</td>\n",
       "      <td>65.11</td>\n",
       "      <td>yes</td>\n",
       "      <td>yes</td>\n",
       "      <td>55.87</td>\n",
       "      <td>-4.25</td>\n",
       "      <td>8.60</td>\n",
       "    </tr>\n",
       "    <tr>\n",
       "      <th>212</th>\n",
       "      <td>Swansea</td>\n",
       "      <td>United Kingdom</td>\n",
       "      <td>65.11</td>\n",
       "      <td>yes</td>\n",
       "      <td>yes</td>\n",
       "      <td>51.63</td>\n",
       "      <td>-3.95</td>\n",
       "      <td>9.73</td>\n",
       "    </tr>\n",
       "  </tbody>\n",
       "</table>\n",
       "<p>213 rows × 8 columns</p>\n",
       "</div>"
      ],
      "text/plain": [
       "          city         country  population   EU coastline  latitude  \\\n",
       "0      Elbasan         Albania        2.90   no       yes     41.12   \n",
       "1      Andorra         Andorra        0.07   no        no     42.50   \n",
       "2    Innsbruck         Austria        8.57  yes        no     47.85   \n",
       "3         Graz         Austria        8.57  yes        no     47.08   \n",
       "4         Linz         Austria        8.57  yes        no     48.32   \n",
       "..         ...             ...         ...  ...       ...       ...   \n",
       "208  Edinburgh  United Kingdom       65.11  yes       yes     55.95   \n",
       "209     Exeter  United Kingdom       65.11  yes       yes     50.70   \n",
       "210  Inverness  United Kingdom       65.11  yes       yes     53.55   \n",
       "211    Glasgow  United Kingdom       65.11  yes       yes     55.87   \n",
       "212    Swansea  United Kingdom       65.11  yes       yes     51.63   \n",
       "\n",
       "     longitude  temperature  \n",
       "0        20.08        15.18  \n",
       "1         1.52         7.48  \n",
       "2        11.41         4.54  \n",
       "3        14.02         6.91  \n",
       "4        14.29         6.79  \n",
       "..         ...          ...  \n",
       "208      -2.94        10.31  \n",
       "209      -3.53        10.14  \n",
       "210      -4.23         8.00  \n",
       "211      -4.25         8.60  \n",
       "212      -3.95         9.73  \n",
       "\n",
       "[213 rows x 8 columns]"
      ]
     },
     "execution_count": 14,
     "metadata": {},
     "output_type": "execute_result"
    }
   ],
   "source": [
    "data"
   ]
  },
  {
   "cell_type": "markdown",
   "id": "f07af051",
   "metadata": {},
   "source": [
    "### Visualization"
   ]
  },
  {
   "cell_type": "markdown",
   "id": "65bd90a2",
   "metadata": {},
   "source": [
    "#### 1. Plot a bar chart for the number of cities belonging to each of the regions described in Preprocessing/Analysis #3 above."
   ]
  },
  {
   "cell_type": "code",
   "execution_count": 15,
   "id": "0b200181-5a62-426b-ac92-5c1e16fafddf",
   "metadata": {},
   "outputs": [],
   "source": [
    "def showregions(data):\n",
    "    regions=['Coast','EU','EU and coast','Neither']\n",
    "    ceu=0 #counter eu only\n",
    "    ceuc=0 #counter eu and coast\n",
    "    cc=0 #counter coast only\n",
    "    cn=0 #counter neither\n",
    "    for i in data.index:\n",
    "        if data['coastline'][i]=='yes' and data['EU'][i]=='no':\n",
    "             cc+=1\n",
    "        elif data['EU'][i]=='yes' and data['coastline'][i]=='no':\n",
    "             ceu+=1\n",
    "        elif data['coastline'][i]=='yes' and data['EU'][i]=='yes':\n",
    "             ceuc+=1\n",
    "        elif data['coastline'][i]=='no' and data['EU'][i]=='no':\n",
    "            cn+=1\n",
    "    cities=[cc,ceu,ceuc,cn]\n",
    "    plt.bar(regions,cities)\n",
    "    plt.show()"
   ]
  },
  {
   "cell_type": "code",
   "execution_count": 16,
   "id": "b7461235",
   "metadata": {},
   "outputs": [
    {
     "data": {
      "image/png": "[encoded data removed]",
      "text/plain": [
       "<Figure size 432x288 with 1 Axes>"
      ]
     },
     "metadata": {
      "needs_background": "light"
     },
     "output_type": "display_data"
    }
   ],
   "source": [
    "showregions(data)"
   ]
  },
  {
   "cell_type": "markdown",
   "id": "21c9700b",
   "metadata": {},
   "source": [
    "#### 2. Plot a scatter plot of latitude (y-axis) vs. longitude (x-axis) values to get a map-like visual of the cities under consideration. All the cities in the same country should have the same color."
   ]
  },
  {
   "cell_type": "code",
   "execution_count": 17,
   "id": "c5b050c6-fa1b-4c70-a034-e768c122b964",
   "metadata": {},
   "outputs": [],
   "source": [
    "def eumap(data):\n",
    "    countries=data.groupby('country')\n",
    "    for name, group in countries:\n",
    "        plt.plot(group.longitude, group.latitude, marker='o', linestyle='', markersize=5, label=name)"
   ]
  },
  {
   "cell_type": "code",
   "execution_count": 19,
   "id": "fde70e49",
   "metadata": {},
   "outputs": [
    {
     "data": {
      "image/png": "[encoded data removed]",
      "text/plain": [
       "<Figure size 432x288 with 1 Axes>"
      ]
     },
     "metadata": {
      "needs_background": "light"
     },
     "output_type": "display_data"
    }
   ],
   "source": [
    "eumap(data)"
   ]
  },
  {
   "cell_type": "markdown",
   "id": "9954b25b",
   "metadata": {},
   "source": [
    "#### 3. The population column contains values unique to each coun- try. So two cities of the same country will show the same population value. Plot a histogram of the number of countries belonging to each population group: split the population values into 5 bins (groups)."
   ]
  },
  {
   "cell_type": "code",
   "execution_count": 20,
   "id": "597d579b-1bed-4ccf-be3f-085f20dcabab",
   "metadata": {},
   "outputs": [],
   "source": [
    "def pophist(data):\n",
    "    countriespop=Series(data['population'].values, index=list(data['country']))\n",
    "    countriespop = (countriespop.reset_index().drop_duplicates(subset='index', keep='last').set_index('index').sort_index())\n",
    "    countriespop.hist(bins=5)"
   ]
  },
  {
   "cell_type": "code",
   "execution_count": 21,
   "id": "b5acd306",
   "metadata": {},
   "outputs": [
    {
     "data": {
      "image/png": "[encoded data removed]",
      "text/plain": [
       "<Figure size 432x288 with 1 Axes>"
      ]
     },
     "metadata": {
      "needs_background": "light"
     },
     "output_type": "display_data"
    }
   ],
   "source": [
    "pophist(data)"
   ]
  },
  {
   "cell_type": "markdown",
   "id": "e6321974",
   "metadata": {},
   "source": [
    "#### 4. Create subplots in a 2 × 2 grid, with proper titles, one each for the region types described in Preprocessing/Analysis #3 above."
   ]
  },
  {
   "cell_type": "code",
   "execution_count": 22,
   "id": "5b2efede-8539-456a-ba95-9f2c499bbeb6",
   "metadata": {},
   "outputs": [],
   "source": [
    "def subplots(data):\n",
    "    fig, axes=plt.subplots(2,2,figsize=(30,30))\n",
    "    ceu=0 #counter eu only\n",
    "    ceuc=0 #counter eu and coast\n",
    "    cc=0 #counter coast only\n",
    "    cn=0 #counter neither\n",
    "    for i in data.index:\n",
    "        if data['coastline'][i]=='yes' and data['EU'][i]=='no':\n",
    "            if data['temperature'][i]>10:\n",
    "                color='red'\n",
    "            elif data['temperature'][i]<6:\n",
    "                color='blue'\n",
    "            else:\n",
    "                color='orange'\n",
    "            axes[0][0].plot(data['city'][i],data['latitude'][i], 'o', c=color)\n",
    "            cc+=1\n",
    "        elif data['EU'][i]=='yes' and data['coastline'][i]=='no':\n",
    "            if data['temperature'][i]>10:\n",
    "                color='red'\n",
    "            elif data['temperature'][i]<6:\n",
    "                color='blue'\n",
    "            else:\n",
    "                color='orange'\n",
    "            axes[0][1].plot(data['city'][i],data['latitude'][i], 'o', c=color)\n",
    "            ceu+=1\n",
    "        elif data['coastline'][i]=='yes' and data['EU'][i]=='yes':\n",
    "            if data['temperature'][i]>10:\n",
    "                color='red'\n",
    "            elif data['temperature'][i]<6:\n",
    "                color='blue'\n",
    "            else:\n",
    "                color='orange'\n",
    "            axes[1][0].plot(data['city'][i],data['latitude'][i], 'o', c=color)\n",
    "            ceuc+=1\n",
    "        elif data['coastline'][i]=='no' and data['EU'][i]=='no':\n",
    "            if data['temperature'][i]>10:\n",
    "                color='red'\n",
    "            elif data['temperature'][i]<6:\n",
    "                color='blue'\n",
    "            else:\n",
    "                color='orange'\n",
    "            axes[1][1].plot(data['city'][i],data['latitude'][i], 'o', c=color)\n",
    "            cn+=1\n",
    "    axes[0][0].set_title('Coastline only')\n",
    "    axes[0][1].set_title('EU only')\n",
    "    axes[1][0].set_title('Coastline and EU')\n",
    "    axes[1][1].set_title('Neither')\n",
    "    axes[0][0].set_xticks(range(cc))\n",
    "    axes[0][1].set_xticks(range(ceu))\n",
    "    axes[1][0].set_xticks(range(ceuc))\n",
    "    axes[1][1].set_xticks(range(cn))\n",
    "    axes[0][0].set_xticklabels(range(cc))\n",
    "    axes[0][1].set_xticklabels(range(ceu))\n",
    "    axes[1][0].set_xticklabels(range(ceuc))\n",
    "    axes[1][1].set_xticklabels(range(cn))\n",
    "    plt.show()"
   ]
  },
  {
   "cell_type": "code",
   "execution_count": 23,
   "id": "0ff7f674",
   "metadata": {},
   "outputs": [
    {
     "data": {
      "image/png": "[encoded data removed]",
      "text/plain": [
       "<Figure size 2160x2160 with 4 Axes>"
      ]
     },
     "metadata": {
      "needs_background": "light"
     },
     "output_type": "display_data"
    }
   ],
   "source": [
    "subplots(data)"
   ]
  },
  {
   "cell_type": "code",
   "execution_count": null,
   "id": "c72f1d13",
   "metadata": {},
   "outputs": [],
   "source": []
  }
 ],
 "metadata": {
  "kernelspec": {
   "display_name": "Python 3 (ipykernel)",
   "language": "python",
   "name": "python3"
  },
  "language_info": {
   "codemirror_mode": {
    "name": "ipython",
    "version": 3
   },
   "file_extension": ".py",
   "mimetype": "text/x-python",
   "name": "python",
   "nbconvert_exporter": "python",
   "pygments_lexer": "ipython3",
   "version": "3.9.7"
  },
  "vscode": {
   "interpreter": {
    "hash": "31f2aee4e71d21fbe5cf8b01ff0e069b9275f58929596ceb00d14d90e3e16cd6"
   }
  }
 },
 "nbformat": 4,
 "nbformat_minor": 5
}
